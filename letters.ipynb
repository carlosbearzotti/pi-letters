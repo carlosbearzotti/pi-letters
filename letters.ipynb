{
 "cells": [
  {
   "cell_type": "markdown",
   "id": "86a21164",
   "metadata": {},
   "source": [
    "# BLOCO 1: IMPORTAÇÃO DE BIBLIOTECAS"
   ]
  },
  {
   "cell_type": "code",
   "execution_count": 10,
   "id": "cf5bfec9",
   "metadata": {},
   "outputs": [],
   "source": [
    "# OS: Biblioteca para interação com sistema operacional (manipulação de arquivos e diretórios)\n",
    "import os"
   ]
  },
  {
   "cell_type": "code",
   "execution_count": 11,
   "id": "b0739121",
   "metadata": {},
   "outputs": [],
   "source": [
    "# OpenCV: Biblioteca para processamento de imagens e visão computacional\n",
    "import cv2"
   ]
  },
  {
   "cell_type": "code",
   "execution_count": 12,
   "id": "b65efed1",
   "metadata": {},
   "outputs": [],
   "source": [
    "# NumPy: Biblioteca para computação científica com arrays multidimensionais\n",
    "import numpy as np"
   ]
  },
  {
   "cell_type": "code",
   "execution_count": 13,
   "id": "eb388f67",
   "metadata": {},
   "outputs": [],
   "source": [
    "# Pandas: Biblioteca para manipulação e análise de dados (dataframes)\n",
    "import pandas as pd"
   ]
  },
  {
   "cell_type": "code",
   "execution_count": 14,
   "id": "f357c98f",
   "metadata": {},
   "outputs": [],
   "source": [
    "# Scikit-learn: Biblioteca para machine learning em Python\n",
    "from sklearn.model_selection import StratifiedKFold # Validação cruzada estratificada\n",
    "from sklearn.metrics import accuracy_score, precision_score, recall_score, f1_score # Métricas de avaliação\n",
    "from sklearn.neighbors import KNeighborsClassifier # Algoritmo KNN\n",
    "from sklearn.ensemble import RandomForestClassifier # Algoritmo Random Forest\n",
    "from sklearn.neural_network import MLPClassifier # Rede Neural MLP"
   ]
  },
  {
   "cell_type": "code",
   "execution_count": 15,
   "id": "1413bde1",
   "metadata": {},
   "outputs": [],
   "source": [
    "# Joblib: Biblioteca para salvar e carregar modelos treinados\n",
    "from joblib import dump"
   ]
  },
  {
   "cell_type": "markdown",
   "id": "997fb6ba",
   "metadata": {},
   "source": [
    "# BLOCO 2: CARREGAMENTO E PRÉ-PROCESSAMENTO DOS DADOS"
   ]
  },
  {
   "cell_type": "code",
   "execution_count": 16,
   "id": "c27ecf17",
   "metadata": {},
   "outputs": [
    {
     "name": "stdout",
     "output_type": "stream",
     "text": [
      "Total de imagens carregadas: 10000\n"
     ]
    }
   ],
   "source": [
    "# Define o diretório onde estão armazenadas as imagens do dataset\n",
    "data_dir = r\"imagens\\indie\\pi\\dataset\\v20220930\"\n",
    "\n",
    "# Tamanho para redimensionamento das imagens (16x16 pixels)\n",
    "img_size = 16\n",
    "\n",
    "# Listas para armazenar features (X) e labels (y)\n",
    "X, y = [], []\n",
    "\n",
    "# Processo de carregamento das imagens:\n",
    "    # 1. Percorre todos os subdiretórios do dataset\n",
    "    # 2. Identifica a vogal baseada no nome da pasta\n",
    "    # 3. Carrega e processa cada imagem\n",
    "    # 4. Converte imagens em vetores de features\n",
    "\n",
    "for root, dirs, files in os.walk(data_dir):\n",
    "    # Extrai o nome da pasta pai para identificar a vogal\n",
    "    pasta_vogal = os.path.basename(os.path.dirname(root))\n",
    "    letra = pasta_vogal[0].lower() if pasta_vogal else None\n",
    "    \n",
    "    # Processa pastas de vogais (a, e, i, o, u)\n",
    "    if letra in ['a','e','i','o','u']:\n",
    "        for file in files:\n",
    "            # Filtra apenas arquivos de imagem\n",
    "            if file.lower().endswith(('.png','.jpg','.jpeg')):\n",
    "                img_path = os.path.join(root, file)\n",
    "                \n",
    "                # Carrega imagem em escala de cinza\n",
    "                img = cv2.imread(img_path, cv2.IMREAD_GRAYSCALE)\n",
    "                \n",
    "                # Redimensiona imagem para tamanho fixo\n",
    "                img = cv2.resize(img, (img_size, img_size))\n",
    "                \n",
    "                # Achata a matriz 16x16 em vetor 1D de 256 elementos\n",
    "                X.append(img.flatten())\n",
    "                \n",
    "                # Cria label binário: 1 para vogal 'i', 0 para outras vogais\n",
    "                y.append(1 if letra == 'i' else 0)\n",
    "\n",
    "# Converte listas para arrays NumPy para melhor performance\n",
    "X = np.array(X)\n",
    "y = np.array(y)\n",
    "\n",
    "print(\"Total de imagens carregadas:\", len(X))"
   ]
  },
  {
   "cell_type": "markdown",
   "id": "df5bc1c7",
   "metadata": {},
   "source": [
    "# BLOCO 3: Execução"
   ]
  },
  {
   "cell_type": "code",
   "execution_count": 17,
   "id": "8ce844f6",
   "metadata": {},
   "outputs": [
    {
     "name": "stdout",
     "output_type": "stream",
     "text": [
      "Treinando e avaliando KNN...\n",
      "Treinando e avaliando MLP...\n",
      "Treinando e avaliando RandomForest...\n",
      "              Acurácia  Precision    Recall        F1\n",
      "KNN           0.969600   0.894557  0.961500  0.926787\n",
      "MLP           0.918498   0.853490  0.761320  0.762729\n",
      "RandomForest  0.983400   0.974200  0.942001  0.957801\n",
      "Resultados da avaliação salvos em avaliacao_modelos.npz e avaliacao_modelos.csv\n"
     ]
    }
   ],
   "source": [
    "# Configurações do experimento\n",
    "n_splits = 3      # Número de folds na validação cruzada\n",
    "random_state = 42  # Semente aleatória para reproducibilidade\n",
    "\n",
    "# Avalia um modelo usando validação cruzada\n",
    "    # Parâmetros:\n",
    "    # model: modelo de machine learning a ser avaliado\n",
    "    # X: array com features das imagens\n",
    "    # y: array com labels\n",
    "    # kf: objeto de validação cruzada\n",
    "# Retorna:\n",
    "    # Tupla com médias das métricas (acurácia, precision, recall, f1)\n",
    "\n",
    "def evaluate_model(model, X, y, kf):\n",
    "\n",
    "    # Listas para armazenar métricas de cada fold\n",
    "    accs, precs, recs, f1s = [], [], [], []\n",
    "    \n",
    "    # Executa validação cruzada fold por fold\n",
    "    for train_idx, test_idx in kf.split(X, y):\n",
    "        # Treina o modelo com dados de treino do fold atual\n",
    "        model.fit(X[train_idx], y[train_idx])\n",
    "        \n",
    "        # Faz predições com dados de teste do fold atual\n",
    "        preds = model.predict(X[test_idx])\n",
    "        \n",
    "        # Calcula métricas e armazena nas listas\n",
    "        accs.append(accuracy_score(y[test_idx], preds))\n",
    "        precs.append(precision_score(y[test_idx], preds))\n",
    "        recs.append(recall_score(y[test_idx], preds))\n",
    "        f1s.append(f1_score(y[test_idx], preds))\n",
    "    \n",
    "    # Retorna médias das métricas entre todos os folds\n",
    "    return np.mean(accs), np.mean(precs), np.mean(recs), np.mean(f1s)\n",
    "\n",
    "# StratifiedKFold: Garante que cada fold tenha a mesma proporção de classes que o dataset original, importante para problemas com classes desbalanceadas\n",
    "\n",
    "kf = StratifiedKFold(n_splits=n_splits, shuffle=True, random_state=random_state)\n",
    "\n",
    "# KNN: Classificador baseado em distância entre vizinhos mais próximos\n",
    "model_knn = KNeighborsClassifier(n_neighbors=3)\n",
    "\n",
    "# MLP: Rede Neural Artificial com uma camada oculta de 100 neurônios\n",
    "model_mlp = MLPClassifier(hidden_layer_sizes=(100,), max_iter=200)\n",
    "\n",
    "# Random Forest: Ensemble de múltiplas árvores de decisão\n",
    "model_rf  = RandomForestClassifier(n_estimators=100, random_state=42)\n",
    "\n",
    "# Dicionário para armazenar resultados\n",
    "results = {}\n",
    "\n",
    "# Loop de avaliação para cada modelo:\n",
    "    # 1. KNN - Baseado em distância\n",
    "    # 2. MLP - Rede Neural\n",
    "    # 3. Random Forest - Ensemble de árvores\n",
    "\n",
    "for name, model in [(\"KNN\", model_knn), (\"MLP\", model_mlp), (\"RandomForest\", model_rf)]:\n",
    "    print(f\"Treinando e avaliando {name}...\")\n",
    "    \n",
    "    # Avalia o modelo usando validação cruzada\n",
    "    acc, prec, rec, f1 = evaluate_model(model, X, y, kf)\n",
    "    \n",
    "    # Armazena resultados no dicionário\n",
    "    results[name] = (acc, prec, rec, f1)\n",
    "    \n",
    "    # Salva o modelo treinado em arquivo para uso futuro\n",
    "    dump(model, f\"{name}_final_model.pkl\")\n",
    "\n",
    "# Cria DataFrame do Pandas para visualização organizada dos resultados\n",
    "df = pd.DataFrame(results, index=[\"Acurácia\", \"Precision\", \"Recall\", \"F1\"]).T\n",
    "print(df)\n",
    "\n",
    "# Salvamento dos resultados:\n",
    "    # - NPZ: Formato NumPy para carregamento rápido em Python\n",
    "    # - CSV: Formato tabular legível para humanos e outras ferramentas\n",
    "\n",
    "# Salva em formato NumPy\n",
    "np.savez(\"avaliacao_modelos.npz\", **results)\n",
    "\n",
    "# Salva em formato CSV\n",
    "df.to_csv(\"avaliacao_modelos.csv\")\n",
    "\n",
    "print(\"Resultados da avaliação salvos em avaliacao_modelos.npz e avaliacao_modelos.csv\")"
   ]
  },
  {
   "cell_type": "markdown",
   "id": "197b6f91",
   "metadata": {},
   "source": [
    "# Bloco 4: Validação da avaliação corretamente salva"
   ]
  },
  {
   "cell_type": "code",
   "execution_count": 18,
   "id": "f7ebef59",
   "metadata": {},
   "outputs": [
    {
     "name": "stdout",
     "output_type": "stream",
     "text": [
      "KNN 0.9695997494170533 0.8945573861863337 0.9615004809907358 0.9267869728533845\n",
      "MLP 0.918497698600094 0.8534902708382979 0.7613197905551728 0.7627288228290116\n",
      "RandomForest 0.9834000196660337 0.9742001750196065 0.9420012216114165 0.9578008737240035\n"
     ]
    }
   ],
   "source": [
    "# Carrega resultados salvos\n",
    "data = np.load(\"avaliacao_modelos.npz\")\n",
    "for model in data:\n",
    "    acc, prec, rec, f1 = data[model]\n",
    "    print(model, acc, prec, rec, f1)\n"
   ]
  }
 ],
 "metadata": {
  "kernelspec": {
   "display_name": "Python 3",
   "language": "python",
   "name": "python3"
  },
  "language_info": {
   "codemirror_mode": {
    "name": "ipython",
    "version": 3
   },
   "file_extension": ".py",
   "mimetype": "text/x-python",
   "name": "python",
   "nbconvert_exporter": "python",
   "pygments_lexer": "ipython3",
   "version": "3.12.6"
  }
 },
 "nbformat": 4,
 "nbformat_minor": 5
}
